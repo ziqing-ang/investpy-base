{
 "cells": [
  {
   "cell_type": "markdown",
   "metadata": {},
   "source": [
    "## Import packages"
   ]
  },
  {
   "cell_type": "code",
   "execution_count": 96,
   "metadata": {},
   "outputs": [],
   "source": [
    "import os\n",
    "import investpy\n",
    "import pandas as pd\n",
    "\n",
    "from bs4 import BeautifulSoup\n",
    "import requests\n",
    "import time"
   ]
  },
  {
   "cell_type": "markdown",
   "metadata": {},
   "source": [
    "## Get list of Malaysian stocks\n"
   ]
  },
  {
   "cell_type": "code",
   "execution_count": 81,
   "metadata": {},
   "outputs": [],
   "source": [
    "stocks = investpy.get_stocks_list(country=\"malaysia\")\n"
   ]
  },
  {
   "cell_type": "code",
   "execution_count": 4,
   "metadata": {},
   "outputs": [
    {
     "name": "stdout",
     "output_type": "stream",
     "text": [
      "Number of stocks: 929\n"
     ]
    }
   ],
   "source": [
    "print(f\"Number of stocks: {len(stocks)}\")"
   ]
  },
  {
   "cell_type": "code",
   "execution_count": 26,
   "metadata": {},
   "outputs": [
    {
     "data": {
      "text/plain": [
       "'MDCH'"
      ]
     },
     "execution_count": 26,
     "metadata": {},
     "output_type": "execute_result"
    }
   ],
   "source": [
    "stocks[0]"
   ]
  },
  {
   "cell_type": "markdown",
   "metadata": {},
   "source": [
    "## Extract counter id"
   ]
  },
  {
   "cell_type": "code",
   "execution_count": 187,
   "metadata": {},
   "outputs": [
    {
     "name": "stdout",
     "output_type": "stream",
     "text": [
      "MEST\n",
      "https://www.investing.com/equities/mestron-holdings-company-profile\n"
     ]
    }
   ],
   "source": [
    "stock = stocks[926]\n",
    "print(stock)\n",
    "info = investpy.stocks.get_stock_company_profile(stock=stock, country='malaysia')\n",
    "print(info['url'])"
   ]
  },
  {
   "cell_type": "code",
   "execution_count": 188,
   "metadata": {},
   "outputs": [],
   "source": [
    "headers = {'User-Agent': 'Mozilla/5.0 (Linux; Android 5.1.1; SM-G928X Build/LMY47X) AppleWebKit/537.36 (KHTML, like Gecko) Chrome/47.0.2526.83 Mobile Safari/537.36'}\n",
    "url = info['url']\n",
    "response = requests.get(url, timeout=5, headers=headers)\n",
    "content = BeautifulSoup(response.content, \"html.parser\")"
   ]
  },
  {
   "cell_type": "code",
   "execution_count": 189,
   "metadata": {},
   "outputs": [
    {
     "data": {
      "text/plain": [
       "'0207'"
      ]
     },
     "execution_count": 189,
     "metadata": {},
     "output_type": "execute_result"
    }
   ],
   "source": [
    "c_id = content.findAll('span',{\"class\":\"elp\"})[3].get(\"title\")\n",
    "c_id"
   ]
  },
  {
   "cell_type": "code",
   "execution_count": 190,
   "metadata": {},
   "outputs": [
    {
     "data": {
      "text/plain": [
       "'MEST'"
      ]
     },
     "execution_count": 190,
     "metadata": {},
     "output_type": "execute_result"
    }
   ],
   "source": [
    "stock"
   ]
  },
  {
   "cell_type": "code",
   "execution_count": 191,
   "metadata": {},
   "outputs": [],
   "source": [
    "stock_id = {\"TICKER\":stock,\n",
    "           \"COUNTER_ID\":c_id}"
   ]
  },
  {
   "cell_type": "code",
   "execution_count": 192,
   "metadata": {},
   "outputs": [
    {
     "data": {
      "text/plain": [
       "{'TICKER': 'MEST', 'COUNTER_ID': '0207'}"
      ]
     },
     "execution_count": 192,
     "metadata": {},
     "output_type": "execute_result"
    }
   ],
   "source": [
    "stock_id"
   ]
  },
  {
   "cell_type": "markdown",
   "metadata": {},
   "source": [
    "## Loop to get counter id for all Malaysian stocks"
   ]
  },
  {
   "cell_type": "code",
   "execution_count": 156,
   "metadata": {},
   "outputs": [],
   "source": [
    "# %%time\n",
    "stock_stack = []\n",
    "faulty_stack = [] # to note down stocks that's unable to retrieve counter_id\n",
    "\n",
    "for s in stocks[899:]:\n",
    "    # Mark starting time (to slow down spider)\n",
    "    t0 = time.time()\n",
    "    \n",
    "    # Get stock url\n",
    "    info = investpy.stocks.get_stock_company_profile(stock=s, country='malaysia')\n",
    "    url = info['url']\n",
    "    \n",
    "    try:\n",
    "        # Request from investing.com\n",
    "        headers = {'User-Agent': 'Mozilla/5.0 (Linux; Android 5.1.1; SM-G928X Build/LMY47X) AppleWebKit/537.36 (KHTML, like Gecko) Chrome/47.0.2526.83 Mobile Safari/537.36'}\n",
    "        response = requests.get(url, timeout=5, headers=headers)\n",
    "        content = BeautifulSoup(response.content, \"html.parser\")\n",
    "    \n",
    "        # Get counter_id\n",
    "        c_id = content.findAll('span',{\"class\":\"elp\"})[3].get(\"title\")\n",
    "    \n",
    "        stock_dict = {\n",
    "            \"TICKER\":s,\n",
    "            \"COUNTER_ID\":c_id\n",
    "            }\n",
    "        \n",
    "        stock_stack.append(stock_dict)\n",
    "    \n",
    "    # put aside s if error occurs for further action\n",
    "    except Exception:\n",
    "        faulty_dict = {\n",
    "            \"TICKER\":s,\n",
    "            \"S_URL\":url\n",
    "        }\n",
    "        \n",
    "        faulty_stack.append(faulty_dict)\n",
    "        \n",
    "    # Stop spider for a moment\n",
    "    response_delay = time.time() - t0 \n",
    "    time.sleep(response_delay+1)\n",
    "#     time.sleep(10*response_delay)   wait 10x longer than it took them to respond\n",
    "    "
   ]
  },
  {
   "cell_type": "code",
   "execution_count": 157,
   "metadata": {},
   "outputs": [
    {
     "name": "stdout",
     "output_type": "stream",
     "text": [
      "Total number of Malaysian stock: 929\n",
      "Number of retrieved counter id: 29\n",
      "Number of failures: 1\n"
     ]
    }
   ],
   "source": [
    "df = pd.DataFrame(stock_stack)\n",
    "print(\"Total number of Malaysian stock: {}\".format(len(stocks)))\n",
    "print(\"Number of retrieved counter id: {}\".format(len(stock_stack)))\n",
    "print(\"Number of failures: {}\".format(len(faulty_stack)))"
   ]
  },
  {
   "cell_type": "code",
   "execution_count": 164,
   "metadata": {},
   "outputs": [
    {
     "data": {
      "text/plain": [
       "[{'TICKER': 'HPMT',\n",
       "  'S_URL': 'https://www.investing.com/equities/hpmt-holdings-bhd-company-profile'}]"
      ]
     },
     "execution_count": 164,
     "metadata": {},
     "output_type": "execute_result"
    }
   ],
   "source": [
    "faulty_stack"
   ]
  },
  {
   "cell_type": "code",
   "execution_count": 165,
   "metadata": {},
   "outputs": [],
   "source": [
    "df.to_json('~/Desktop/c_id.json')"
   ]
  },
  {
   "cell_type": "markdown",
   "metadata": {},
   "source": [
    "## Combining json from two scrape attempts due to website maintenance"
   ]
  },
  {
   "cell_type": "code",
   "execution_count": 183,
   "metadata": {},
   "outputs": [],
   "source": [
    "dtype_dic= {'TICKER': str, \n",
    "            'COUNTER_ID' : str}\n",
    "\n",
    "# Manually add faulty row\n",
    "hpmt = pd.DataFrame([{'TICKER': 'HPMT', 'COUNTER_ID':'5291'}])\n",
    "js1 = pd.read_json(\"~/Desktop/c_id.json\", dtype = dtype_dic)\n",
    "js2 = pd.read_json(\"~/Desktop/c_id_2.json\", dtype = dtype_dic)\n",
    "\n",
    "cid_df = pd.concat([js1,js2,hpmt]).reset_index(drop=True)"
   ]
  },
  {
   "cell_type": "code",
   "execution_count": 184,
   "metadata": {},
   "outputs": [
    {
     "data": {
      "text/html": [
       "<div>\n",
       "<style scoped>\n",
       "    .dataframe tbody tr th:only-of-type {\n",
       "        vertical-align: middle;\n",
       "    }\n",
       "\n",
       "    .dataframe tbody tr th {\n",
       "        vertical-align: top;\n",
       "    }\n",
       "\n",
       "    .dataframe thead th {\n",
       "        text-align: right;\n",
       "    }\n",
       "</style>\n",
       "<table border=\"1\" class=\"dataframe\">\n",
       "  <thead>\n",
       "    <tr style=\"text-align: right;\">\n",
       "      <th></th>\n",
       "      <th>TICKER</th>\n",
       "      <th>COUNTER_ID</th>\n",
       "    </tr>\n",
       "  </thead>\n",
       "  <tbody>\n",
       "    <tr>\n",
       "      <th>0</th>\n",
       "      <td>MDCH</td>\n",
       "      <td>5090</td>\n",
       "    </tr>\n",
       "    <tr>\n",
       "      <th>1</th>\n",
       "      <td>AMMB</td>\n",
       "      <td>1015</td>\n",
       "    </tr>\n",
       "    <tr>\n",
       "      <th>2</th>\n",
       "      <td>CIMB</td>\n",
       "      <td>1023</td>\n",
       "    </tr>\n",
       "    <tr>\n",
       "      <th>3</th>\n",
       "      <td>RHBC</td>\n",
       "      <td>1066</td>\n",
       "    </tr>\n",
       "    <tr>\n",
       "      <th>4</th>\n",
       "      <td>HLCB</td>\n",
       "      <td>1082</td>\n",
       "    </tr>\n",
       "    <tr>\n",
       "      <th>...</th>\n",
       "      <td>...</td>\n",
       "      <td>...</td>\n",
       "    </tr>\n",
       "    <tr>\n",
       "      <th>924</th>\n",
       "      <td>GREA</td>\n",
       "      <td>0208</td>\n",
       "    </tr>\n",
       "    <tr>\n",
       "      <th>925</th>\n",
       "      <td>MEST</td>\n",
       "      <td>0207</td>\n",
       "    </tr>\n",
       "    <tr>\n",
       "      <th>926</th>\n",
       "      <td>PARL</td>\n",
       "      <td>0022</td>\n",
       "    </tr>\n",
       "    <tr>\n",
       "      <th>927</th>\n",
       "      <td>MTAG</td>\n",
       "      <td>0213</td>\n",
       "    </tr>\n",
       "    <tr>\n",
       "      <th>928</th>\n",
       "      <td>HPMT</td>\n",
       "      <td>5291</td>\n",
       "    </tr>\n",
       "  </tbody>\n",
       "</table>\n",
       "<p>929 rows × 2 columns</p>\n",
       "</div>"
      ],
      "text/plain": [
       "    TICKER COUNTER_ID\n",
       "0     MDCH       5090\n",
       "1     AMMB       1015\n",
       "2     CIMB       1023\n",
       "3     RHBC       1066\n",
       "4     HLCB       1082\n",
       "..     ...        ...\n",
       "924   GREA       0208\n",
       "925   MEST       0207\n",
       "926   PARL       0022\n",
       "927   MTAG       0213\n",
       "928   HPMT       5291\n",
       "\n",
       "[929 rows x 2 columns]"
      ]
     },
     "execution_count": 184,
     "metadata": {},
     "output_type": "execute_result"
    }
   ],
   "source": [
    "cid_df"
   ]
  },
  {
   "cell_type": "code",
   "execution_count": 186,
   "metadata": {},
   "outputs": [],
   "source": [
    "df.to_json(\"~/Desktop/counter_id.json\")"
   ]
  },
  {
   "cell_type": "code",
   "execution_count": null,
   "metadata": {},
   "outputs": [],
   "source": []
  }
 ],
 "metadata": {
  "kernelspec": {
   "display_name": "Python [conda env:root] *",
   "language": "python",
   "name": "conda-root-py"
  },
  "language_info": {
   "codemirror_mode": {
    "name": "ipython",
    "version": 3
   },
   "file_extension": ".py",
   "mimetype": "text/x-python",
   "name": "python",
   "nbconvert_exporter": "python",
   "pygments_lexer": "ipython3",
   "version": "3.7.4"
  }
 },
 "nbformat": 4,
 "nbformat_minor": 4
}
